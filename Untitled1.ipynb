{
 "cells": [
  {
   "cell_type": "code",
   "execution_count": 1,
   "id": "8f888c4b-edba-4609-a5d8-2e368d665356",
   "metadata": {},
   "outputs": [
    {
     "name": "stdin",
     "output_type": "stream",
     "text": [
      "Masukkan Nama Lengkap:  Rexi Riantoni\n",
      "Masukkan Tanggal Lahir (YYYY-MM-DD):  2001-02-16\n",
      "Masukkan Tempat Lahir:  Kalimantan Barat\n",
      "Masukkan Alamat Rumah:  Kadirojo\n",
      "Masukkan Nomor Telepon:  081243525677\n",
      "Masukkan Alamat Email:  rexi.r19@student.ukrimuniversity.ac.id\n",
      "Masukkan Pekerjaan:  Mahasiswa\n",
      "Masukkan Pendidikan Terakhir:  SMA/Sederajat\n",
      "Masukkan Hobi:  Futsal\n",
      "Masukkan Status Pernikahan:  Belum Menikah\n"
     ]
    },
    {
     "name": "stdout",
     "output_type": "stream",
     "text": [
      "\n",
      "Biodata (Snake_case):\n",
      "nama_lengkap: Rexi Riantoni\n",
      "tanggal_lahir: 2001-02-16\n",
      "tempat_lahir: Kalimantan Barat\n",
      "alamat_rumah: Kadirojo\n",
      "nomor_telepon: 081243525677\n",
      "email: rexi.r19@student.ukrimuniversity.ac.id\n",
      "pekerjaan: Mahasiswa\n",
      "pendidikan_terakhir: SMA/Sederajat\n",
      "hobi: Futsal\n",
      "status_pernikahan: Belum Menikah\n",
      "\n",
      "Biodata (Camel Case):\n",
      "NamaLengkap: Rexi Riantoni\n",
      "TanggalLahir: 2001-02-16\n",
      "TempatLahir: Kalimantan Barat\n",
      "AlamatRumah: Kadirojo\n",
      "NomorTelepon: 081243525677\n",
      "Email: rexi.r19@student.ukrimuniversity.ac.id\n",
      "Pekerjaan: Mahasiswa\n",
      "PendidikanTerakhir: SMA/Sederajat\n",
      "Hobi: Futsal\n",
      "StatusPernikahan: Belum Menikah\n"
     ]
    }
   ],
   "source": [
    "def input_biodata(): \n",
    "    # Input biodata \n",
    "    nama_lengkap = input(\"Masukkan Nama Lengkap: \") \n",
    "    tanggal_lahir = input(\"Masukkan Tanggal Lahir (YYYY-MM-DD): \") \n",
    "    tempat_lahir = input(\"Masukkan Tempat Lahir: \") \n",
    "    alamat_rumah = input(\"Masukkan Alamat Rumah: \") \n",
    "    nomor_telepon = input(\"Masukkan Nomor Telepon: \") \n",
    "    email = input(\"Masukkan Alamat Email: \") \n",
    "    pekerjaan = input(\"Masukkan Pekerjaan: \") \n",
    "    pendidikan_terakhir = input(\"Masukkan Pendidikan Terakhir: \") \n",
    "    hobi = input(\"Masukkan Hobi: \") \n",
    "    status_pernikahan = input(\"Masukkan Status Pernikahan: \") \n",
    " \n",
    "    # Menampilkan biodata menggunakan Snake_case \n",
    "    print(\"\\nBiodata (Snake_case):\") \n",
    "    print(f\"nama_lengkap: {nama_lengkap}\") \n",
    "    print(f\"tanggal_lahir: {tanggal_lahir}\") \n",
    "    print(f\"tempat_lahir: {tempat_lahir}\") \n",
    "    print(f\"alamat_rumah: {alamat_rumah}\") \n",
    "    print(f\"nomor_telepon: {nomor_telepon}\") \n",
    "    print(f\"email: {email}\") \n",
    "    print(f\"pekerjaan: {pekerjaan}\") \n",
    "    print(f\"pendidikan_terakhir: {pendidikan_terakhir}\") \n",
    "    print(f\"hobi: {hobi}\") \n",
    "    print(f\"status_pernikahan: {status_pernikahan}\") \n",
    " \n",
    "    # Menampilkan biodata menggunakan Camel Case \n",
    "    print(\"\\nBiodata (Camel Case):\") \n",
    "    print(f\"NamaLengkap: {nama_lengkap}\") \n",
    "    print(f\"TanggalLahir: {tanggal_lahir}\") \n",
    "    print(f\"TempatLahir: {tempat_lahir}\") \n",
    "    print(f\"AlamatRumah: {alamat_rumah}\") \n",
    "    print(f\"NomorTelepon: {nomor_telepon}\") \n",
    "    print(f\"Email: {email}\") \n",
    "    print(f\"Pekerjaan: {pekerjaan}\") \n",
    "    print(f\"PendidikanTerakhir: {pendidikan_terakhir}\") \n",
    "    print(f\"Hobi: {hobi}\") \n",
    "    print(f\"StatusPernikahan: {status_pernikahan}\") \n",
    " \n",
    "# Memanggil fungsi untuk input biodata \n",
    "input_biodata()"
   ]
  },
  {
   "cell_type": "code",
   "execution_count": null,
   "id": "4d688731-1d9e-43b9-ace0-c7a22c6e2b48",
   "metadata": {},
   "outputs": [],
   "source": []
  }
 ],
 "metadata": {
  "kernelspec": {
   "display_name": "Python 3 (ipykernel)",
   "language": "python",
   "name": "python3"
  },
  "language_info": {
   "codemirror_mode": {
    "name": "ipython",
    "version": 3
   },
   "file_extension": ".py",
   "mimetype": "text/x-python",
   "name": "python",
   "nbconvert_exporter": "python",
   "pygments_lexer": "ipython3",
   "version": "3.11.5"
  }
 },
 "nbformat": 4,
 "nbformat_minor": 5
}
